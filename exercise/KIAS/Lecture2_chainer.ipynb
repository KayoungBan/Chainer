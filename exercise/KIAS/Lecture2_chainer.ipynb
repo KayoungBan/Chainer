{
 "cells": [
  {
   "cell_type": "code",
   "execution_count": 2,
   "metadata": {},
   "outputs": [],
   "source": [
    "from chainer import Function, gradient_check, Variable, optimizers, serializers, utils, Link, Chain, ChainList\n",
    "import chainer.functions as F\n",
    "import chainer.links as L\n",
    "import numpy as np\n"
   ]
  },
  {
   "cell_type": "code",
   "execution_count": 6,
   "metadata": {},
   "outputs": [],
   "source": [
    "from sklearn import datasets\n",
    "iris = datasets.load_iris()"
   ]
  },
  {
   "cell_type": "code",
   "execution_count": 202,
   "metadata": {},
   "outputs": [
    {
     "name": "stdout",
     "output_type": "stream",
     "text": [
      "0 [5.1 3.5 1.4 0.2] setosa\n",
      "20 [5.4 3.4 1.7 0.2] setosa\n",
      "40 [5.  3.5 1.3 0.3] setosa\n",
      "60 [5.  2.  3.5 1. ] versicolor\n",
      "80 [5.5 2.4 3.8 1.1] versicolor\n",
      "100 [6.3 3.3 6.  2.5] virginica\n",
      "120 [6.9 3.2 5.7 2.3] virginica\n",
      "140 [6.7 3.1 5.6 2.4] virginica\n"
     ]
    }
   ],
   "source": [
    "X = iris.data.astype(np.float32)\n",
    "Y = iris.target\n",
    "N = Y.size\n",
    "Y2 = np.zeros(3*N).reshape(N,3).astype(np.float32)\n",
    "ans_name = []\n",
    "\n",
    "for i in range(N):\n",
    "    Y2[i,Y[i]] = 1.0\n",
    "    k = np.argmax(Y2[i])\n",
    "    ans_name.append(iris.target_names[k])\n",
    "    \n",
    "for i in range(0,N,20):\n",
    "    print(i, iris.data[i], ans_name[i])"
   ]
  },
  {
   "cell_type": "code",
   "execution_count": 203,
   "metadata": {},
   "outputs": [],
   "source": [
    "index = np.arange(N)\n",
    "xtrain = X[index[index %2 !=0], :]\n",
    "ytrain = Y2[index[index %2 !=0], :]\n",
    "\n",
    "xtest = X[index[index %2 !=0], :] \n",
    "yans = Y[index[index %2 !=0]]"
   ]
  },
  {
   "cell_type": "code",
   "execution_count": 204,
   "metadata": {},
   "outputs": [],
   "source": [
    "class IrisChain(Chain):\n",
    "    def __init__(self, hidden_u):\n",
    "        super(IrisChain,self).__init__(\n",
    "        L1 = L.Linear(4,hidden_u),\n",
    "        L2 = L.Linear(hidden_u,3),\n",
    "        )\n",
    "    def fwd(self,x):\n",
    "        h1 = F.relu(self.L1(x))\n",
    "        h2 = self.L2(h1)\n",
    "        return h2\n",
    "    def __call__(self,x,y):\n",
    "        return F.mean_squared_error(self.fwd(x),y)"
   ]
  },
  {
   "cell_type": "code",
   "execution_count": 205,
   "metadata": {},
   "outputs": [
    {
     "data": {
      "text/plain": [
       "<chainer.optimizers.adam.Adam at 0x7f657d651eb8>"
      ]
     },
     "execution_count": 205,
     "metadata": {},
     "output_type": "execute_result"
    }
   ],
   "source": [
    "hidden_u = 20\n",
    "MyModel = IrisChain(hidden_u)\n",
    "MyOptimizer = optimizers.Adam()\n",
    "MyOptimizer.setup(MyModel)"
   ]
  },
  {
   "cell_type": "code",
   "execution_count": 208,
   "metadata": {},
   "outputs": [],
   "source": [
    "Ntrain = 10000\n",
    "for i in range(Ntrain):\n",
    "    x = Variable(xtrain)\n",
    "    y = Variable(ytrain)\n",
    "    MyModel.zerograds()\n",
    "    loss = MyModel(x,y)\n",
    "    loss.backward()\n",
    "    MyOptimizer.update()"
   ]
  },
  {
   "cell_type": "code",
   "execution_count": 209,
   "metadata": {},
   "outputs": [
    {
     "name": "stdout",
     "output_type": "stream",
     "text": [
      "74 / 75 = 0.9866666666666667\n"
     ]
    }
   ],
   "source": [
    "xt = Variable(xtest)\n",
    "yt = MyModel.fwd(xt)\n",
    "\n",
    "ans = yt.data # read variable/number\n",
    "nrow, ncol = ans.shape\n",
    "ok = 0\n",
    "for i in range(nrow):\n",
    "    cls = np.argmax(ans[i,:])\n",
    "    if cls == yans[i]:\n",
    "        ok += 1\n",
    "        \n",
    "print(ok, \"/\", nrow, \"=\", (ok*1.0)/nrow)"
   ]
  },
  {
   "cell_type": "code",
   "execution_count": null,
   "metadata": {},
   "outputs": [],
   "source": []
  },
  {
   "cell_type": "code",
   "execution_count": null,
   "metadata": {},
   "outputs": [],
   "source": []
  },
  {
   "cell_type": "code",
   "execution_count": null,
   "metadata": {},
   "outputs": [],
   "source": []
  }
 ],
 "metadata": {
  "kernelspec": {
   "display_name": "Python 3",
   "language": "python",
   "name": "python3"
  },
  "language_info": {
   "codemirror_mode": {
    "name": "ipython",
    "version": 3
   },
   "file_extension": ".py",
   "mimetype": "text/x-python",
   "name": "python",
   "nbconvert_exporter": "python",
   "pygments_lexer": "ipython3",
   "version": "3.6.5"
  }
 },
 "nbformat": 4,
 "nbformat_minor": 2
}
