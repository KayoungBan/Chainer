{
 "cells": [
  {
   "cell_type": "code",
   "execution_count": null,
   "metadata": {},
   "outputs": [],
   "source": [
    "import numpy as np\n",
    "import chainer\n",
    "from chainer import Variable, cuda, Function, report, training, utils\n",
    "from chainer import Link, Chain, ChainList, datasets\n",
    "import chainer.functions as F\n",
    "import chainer.links as L\n",
    "from chainer.training import extensions\n",
    "\n",
    "import random\n",
    "import matplotlib.pyplot as plt\n",
    "import matplotlib.cm as cm\n",
    "\n",
    "train, test = datasets.get_mnist(ndim=3)"
   ]
  },
  {
   "cell_type": "code",
   "execution_count": 4,
   "metadata": {},
   "outputs": [],
   "source": [
    "class ConxNeuralNet(Chain):\n",
    "    def __init__(self):\n",
    "        super(ConxNeuralNet, self).__init__(\n",
    "        cn1 = L.Convolution2D(1,20,5),\n",
    "        cn2 = L.Convolution2D(20,50,5),\n",
    "        l1 = L.Linear(800,500),\n",
    "        l2 = L.Linear(500,10)\n",
    "        )\n",
    "    def __call__(self, x, t):\n",
    "        return F.softmax_cross_entropy(self.fwd(x),t)\n",
    "    def fwd(self,x):\n",
    "        h1 = F.max_pooling_2d(F.relu(self.cn1(x)),2)\n",
    "        h2 = F.max_pooling_2d(F.relu(self.cn2(h1)),2)\n",
    "        h3 = F.dropout(F.relu(self.l1(h2)))\n",
    "        return self.l2(h3)"
   ]
  },
  {
   "cell_type": "code",
   "execution_count": 5,
   "metadata": {},
   "outputs": [
    {
     "name": "stdout",
     "output_type": "stream",
     "text": [
      "\u001b[J     total [########..........................................] 16.67%\n",
      "this epoch [#################################.................] 66.67%\n",
      "       100 iter, 1 epoch / 10 epochs\n",
      "       inf iters/sec. Estimated time to finish: 0:00:00.\n",
      "\u001b[4A\u001b[J     total [################..................................] 33.33%\n",
      "this epoch [################..................................] 33.33%\n",
      "       200 iter, 3 epoch / 10 epochs\n",
      "   0.51381 iters/sec. Estimated time to finish: 0:12:58.495275.\n",
      "\u001b[4A\u001b[J     total [#########################.........................] 50.00%\n",
      "this epoch [..................................................]  0.00%\n",
      "       300 iter, 5 epoch / 10 epochs\n",
      "   0.51504 iters/sec. Estimated time to finish: 0:09:42.481162.\n",
      "\u001b[4A\u001b[J     total [#################################.................] 66.67%\n",
      "this epoch [#################################.................] 66.67%\n",
      "       400 iter, 6 epoch / 10 epochs\n",
      "   0.51612 iters/sec. Estimated time to finish: 0:06:27.506013.\n",
      "\u001b[4A\u001b[J     total [#########################################.........] 83.33%\n",
      "this epoch [################..................................] 33.33%\n",
      "       500 iter, 8 epoch / 10 epochs\n",
      "    0.5166 iters/sec. Estimated time to finish: 0:03:13.573685.\n",
      "\u001b[4A\u001b[J     total [##################################################] 100.00%\n",
      "this epoch [..................................................]  0.00%\n",
      "       600 iter, 10 epoch / 10 epochs\n",
      "   0.51686 iters/sec. Estimated time to finish: 0:00:00.\n",
      "\u001b[4A\u001b[J"
     ]
    }
   ],
   "source": [
    "CVmodel = ConxNeuralNet()\n",
    "\n",
    "from chainer import iterators\n",
    "\n",
    "optimizer = chainer.optimizers.Adam()\n",
    "optimizer.setup(CVmodel)\n",
    "\n",
    "iterator = iterators.SerialIterator(train, 1000)\n",
    "\n",
    "updater = training.StandardUpdater(iterator, optimizer)\n",
    "trainer = training.Trainer(updater, (10, 'epoch'))\n",
    "trainer.extend(extensions.ProgressBar())\n",
    "trainer.run()"
   ]
  },
  {
   "cell_type": "code",
   "execution_count": 6,
   "metadata": {},
   "outputs": [
    {
     "name": "stdout",
     "output_type": "stream",
     "text": [
      "0.9881\n"
     ]
    }
   ],
   "source": [
    "ok = 0\n",
    "for i in range(len(test)): \n",
    "    x = Variable(np.array([test[i][0]], dtype=np.float32))\n",
    "    t = test[i][1]\n",
    "    out = CVmodel.fwd(x)\n",
    "    ans = np.argmax(out.data)\n",
    "    if (ans == t):\n",
    "        ok +=1\n",
    "print((ok*1.0/len(test)))"
   ]
  },
  {
   "cell_type": "code",
   "execution_count": null,
   "metadata": {},
   "outputs": [],
   "source": []
  },
  {
   "cell_type": "code",
   "execution_count": null,
   "metadata": {},
   "outputs": [],
   "source": []
  },
  {
   "cell_type": "code",
   "execution_count": null,
   "metadata": {},
   "outputs": [],
   "source": []
  },
  {
   "cell_type": "code",
   "execution_count": null,
   "metadata": {},
   "outputs": [],
   "source": []
  },
  {
   "cell_type": "code",
   "execution_count": null,
   "metadata": {},
   "outputs": [],
   "source": []
  },
  {
   "cell_type": "code",
   "execution_count": null,
   "metadata": {},
   "outputs": [],
   "source": []
  },
  {
   "cell_type": "code",
   "execution_count": null,
   "metadata": {},
   "outputs": [],
   "source": []
  }
 ],
 "metadata": {
  "kernelspec": {
   "display_name": "Python 3",
   "language": "python",
   "name": "python3"
  },
  "language_info": {
   "codemirror_mode": {
    "name": "ipython",
    "version": 3
   },
   "file_extension": ".py",
   "mimetype": "text/x-python",
   "name": "python",
   "nbconvert_exporter": "python",
   "pygments_lexer": "ipython3",
   "version": "3.5.2"
  }
 },
 "nbformat": 4,
 "nbformat_minor": 2
}
