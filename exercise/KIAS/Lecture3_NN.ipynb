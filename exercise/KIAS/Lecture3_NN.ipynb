{
 "cells": [
  {
   "cell_type": "code",
   "execution_count": 1,
   "metadata": {},
   "outputs": [],
   "source": [
    "import numpy as np\n",
    "import chainer\n",
    "from chainer import Chain, Variable\n",
    "import chainer.functions as F\n",
    "import chainer.links as L\n",
    "\n",
    "import random\n",
    "import matplotlib.pyplot as plt\n",
    "import matplotlib.cm as cm\n",
    "\n",
    "%matplotlib inline"
   ]
  },
  {
   "cell_type": "code",
   "execution_count": 2,
   "metadata": {},
   "outputs": [],
   "source": [
    "train, test = chainer.datasets.get_mnist()\n",
    "xs, ts = train._datasets\n",
    "txs, tts = test._datasets"
   ]
  },
  {
   "cell_type": "code",
   "execution_count": 3,
   "metadata": {
    "scrolled": true
   },
   "outputs": [
    {
     "name": "stdout",
     "output_type": "stream",
     "text": [
      "Input = "
     ]
    },
    {
     "data": {
      "image/png": "[encoded data removed]",
      "text/plain": [
       "<Figure size 432x288 with 5 Axes>"
      ]
     },
     "metadata": {},
     "output_type": "display_data"
    },
    {
     "name": "stdout",
     "output_type": "stream",
     "text": [
      "Label = 5,8,5,4,8,\n",
      "Input = "
     ]
    },
    {
     "data": {
      "image/png": "[encoded data removed]",
      "text/plain": [
       "<Figure size 432x288 with 5 Axes>"
      ]
     },
     "metadata": {},
     "output_type": "display_data"
    },
    {
     "name": "stdout",
     "output_type": "stream",
     "text": [
      "Label = 6,7,0,4,9,\n",
      "Input = "
     ]
    },
    {
     "data": {
      "image/png": "[encoded data removed]",
      "text/plain": [
       "<Figure size 432x288 with 5 Axes>"
      ]
     },
     "metadata": {},
     "output_type": "display_data"
    },
    {
     "name": "stdout",
     "output_type": "stream",
     "text": [
      "Label = 0,4,0,3,5,\n",
      "Input = "
     ]
    },
    {
     "data": {
      "image/png": "[encoded data removed]",
      "text/plain": [
       "<Figure size 432x288 with 5 Axes>"
      ]
     },
     "metadata": {},
     "output_type": "display_data"
    },
    {
     "name": "stdout",
     "output_type": "stream",
     "text": [
      "Label = 1,5,8,7,1,\n",
      "Input = "
     ]
    },
    {
     "data": {
      "image/png": "[encoded data removed]",
      "text/plain": [
       "<Figure size 432x288 with 5 Axes>"
      ]
     },
     "metadata": {},
     "output_type": "display_data"
    },
    {
     "name": "stdout",
     "output_type": "stream",
     "text": [
      "Label = 4,6,3,4,3,\n"
     ]
    }
   ],
   "source": [
    "def plot_mnist_data(data):\n",
    "    n = len(data)\n",
    "    for i in range(n):\n",
    "        plt.subplot(1,5,i+1)\n",
    "        plt.axis('off')\n",
    "        plt.imshow(data[i].reshape(28,28), cmap=cm.gray_r, interpolation='nearest')\n",
    "    plt.show()\n",
    "        \n",
    "def print_labels(data):\n",
    "    n = len(data)\n",
    "    for i in range(n):\n",
    "        print(data[i][0], end=\",\")\n",
    "    print()\n",
    "    \n",
    "for j in range(5):\n",
    "    m_data = []\n",
    "    m_label = []\n",
    "    for i in range(5):\n",
    "        k = random.randint(0, 10**4)\n",
    "        x = xs[(k):(k+1)]\n",
    "        t = ts[(k):(k+1)]\n",
    "        m_data.append(x)\n",
    "        m_label.append(t)\n",
    "    print(\"Input = \", end = \"\")\n",
    "    plot_mnist_data(m_data)\n",
    "    print(\"Label = \", end = \"\")\n",
    "    print_labels(m_label)"
   ]
  },
  {
   "cell_type": "code",
   "execution_count": 3,
   "metadata": {},
   "outputs": [],
   "source": [
    "class NeuralNet(chainer.Chain):\n",
    "    def __init__(self, n_units1, n_units2, n_out=10):\n",
    "        super().__init__(\n",
    "        l1 = L.Linear(None, n_units1),\n",
    "        l2 = L.Linear(n_units1, n_units2),\n",
    "        l3 = L.Linear(n_units2, n_out)\n",
    "        )\n",
    "    def __call__(self,x):\n",
    "        h1 = F.relu(self.l1(x))\n",
    "        h2 = F.relu(self.l2(h1))\n",
    "        h3 = F.relu(self.l3(h2))\n",
    "        return h3\n",
    "    \n",
    "def check_accuracy(model, xs, ts):\n",
    "    ys = model(xs)\n",
    "    loss = F.softmax_cross_entropy(ys, ts)\n",
    "    ys = np.argmax(ys.data, axis=1)\n",
    "    cors = (ys == ts)\n",
    "    num_cors  = sum(cors)\n",
    "    accuracy = num_cors / ts.shape[0]\n",
    "    return accuracy, loss\n"
   ]
  },
  {
   "cell_type": "code",
   "execution_count": 5,
   "metadata": {},
   "outputs": [
    {
     "data": {
      "text/plain": [
       "\u001b[0;31mInit signature:\u001b[0m \u001b[0mchainer\u001b[0m\u001b[0;34m.\u001b[0m\u001b[0mChain\u001b[0m\u001b[0;34m(\u001b[0m\u001b[0;34m**\u001b[0m\u001b[0mlinks\u001b[0m\u001b[0;34m)\u001b[0m\u001b[0;34m\u001b[0m\u001b[0m\n",
       "\u001b[0;31mDocstring:\u001b[0m     \n",
       "Composable link with object-like interface.\n",
       "\n",
       "Composability is one of the most important features of neural nets. Neural\n",
       "net models consist of many reusable fragments, and each model itself might\n",
       "be embedded into a larger learnable system. Chain enables us to write a\n",
       "neural net based on composition, without bothering about routine works like\n",
       "collecting parameters, serialization, copying the structure with parameters\n",
       "shared, etc.\n",
       "\n",
       "This class actually provides a way to compose one or more links into one\n",
       "structure. A chain can contain one or more *child links*. Child link is a\n",
       "link registered to the chain with its own name. The child link is stored to\n",
       "an attribute of the chain with the name. User can write a whole model or a\n",
       "fragment of neural nets as a child class of Chain.\n",
       "\n",
       "Each chain itself is also a link. Therefore, one can combine chains into\n",
       "higher-level chains. In this way, links and chains construct a *link\n",
       "hierarchy*. Link hierarchy forms a tree structure, where each node is\n",
       "identified by the path from the root. The path is represented by a string\n",
       "like a file path in UNIX, consisting of names of nodes on the path, joined\n",
       "by slashes ``/``.\n",
       "\n",
       "A child link can be added just by assigning it to an attribute of the\n",
       "chain within :meth:`~chainer.Chain.init_scope`.\n",
       "\n",
       "The registered child link is saved and loaded on serialization and\n",
       "deserialization, and involved in the optimization. The registered link\n",
       "is called a child. The child link is accessible via :meth:`children`\n",
       "generator, which returns a generator running through the children in\n",
       "registered order.\n",
       "\n",
       "On registration of a child link, its :attr:`~Link.name` attribute is also\n",
       "set (or overwritten if the link has already been registered to another\n",
       "chain).\n",
       "\n",
       ".. admonition:: Example\n",
       "\n",
       "   This is a simple example of custom chain definition. Chainer itself also\n",
       "   provides some chains defined under the :mod:`~chainer.links` module.\n",
       "   They might serve as examples, too.\n",
       "\n",
       "   Consider we want to define a multi-layer perceptron consisting of two\n",
       "   hidden layers with rectifiers as activation functions. We can use the\n",
       "   :class:`~chainer.links.Linear` link as a building block::\n",
       "\n",
       "      import chainer\n",
       "      import chainer.functions as F\n",
       "      import chainer.links as L\n",
       "\n",
       "      class MultiLayerPerceptron(chainer.Chain):\n",
       "\n",
       "          def __init__(self, n_in, n_hidden, n_out):\n",
       "              super(MultilayerPerceptron, self).__init__()\n",
       "              with self.init_scope():\n",
       "                  self.layer1 = L.Linear(n_in, n_hidden)\n",
       "                  self.layer2 = L.Linear(n_hidden, n_hidden)\n",
       "                  self.layer3 = L.Linear(n_hidden, n_out)\n",
       "\n",
       "          def __call__(self, x):\n",
       "              # Forward propagation\n",
       "              h1 = F.relu(self.layer1(x))\n",
       "              h2 = F.relu(self.layer2(h1))\n",
       "              return self.layer3(h2)\n",
       "\n",
       "   Child links are registered via the assignment within a\n",
       "   ``with self.init_scope():`` block. The forward propagation is often\n",
       "   implemented as the ``__call__`` operator as the above example, though\n",
       "   it is not mandatory.\n",
       "\n",
       "Args:\n",
       "    links: Child links. The keywords are used as their names. The names are\n",
       "        also set to the links.\n",
       "\n",
       "        .. deprecated:: v2.0.0\n",
       "\n",
       "           Assign child links directly to attributes instead.\n",
       "\u001b[0;31mFile:\u001b[0m           ~/.local/lib/python3.6/site-packages/chainer/link.py\n",
       "\u001b[0;31mType:\u001b[0m           type\n"
      ]
     },
     "metadata": {},
     "output_type": "display_data"
    }
   ],
   "source": [
    "?chainer.Chain"
   ]
  },
  {
   "cell_type": "code",
   "execution_count": 5,
   "metadata": {},
   "outputs": [],
   "source": [
    "bm = 100 \n",
    "loss_history = []\n",
    "accuracy_history = []\n",
    "\n",
    "def train_nn(model, n_epochs):\n",
    "    i_epochs = 0\n",
    "    for i in range(n_epochs):\n",
    "        for j in range(600):\n",
    "            model.zerograds()\n",
    "            x = xs[(j*bm):((j+1)*bm)]\n",
    "            t = ts[(j*bm):((j+1)*bm)]\n",
    "            t = Variable(np.array(t,\"i\"))\n",
    "            y = model(x)\n",
    "            loss = F.softmax_cross_entropy(y,t)\n",
    "            loss.backward()\n",
    "            optimizer.update()\n",
    "            \n",
    "        accuracy_train, loss_train = check_accuracy(model, xs, ts)\n",
    "        accuracy_test, _ = check_accuracy(model, txs, tts)\n",
    "        print(\"Epoch %d/%d, loss(train) = %f, accuracy(train)= %f, accuracy(test) = %f\" \n",
    "              %(i_epochs +1, n_epochs, loss_train.data, accuracy_train, accuracy_test))\n",
    "        loss_history.append(loss_train.data)\n",
    "        accuracy_history.append(accuracy_test)\n",
    "        i_epochs+=1\n",
    "    return"
   ]
  },
  {
   "cell_type": "code",
   "execution_count": 6,
   "metadata": {},
   "outputs": [
    {
     "data": {
      "text/plain": [
       "<chainer.optimizers.adam.Adam at 0x7f54500d6518>"
      ]
     },
     "execution_count": 6,
     "metadata": {},
     "output_type": "execute_result"
    }
   ],
   "source": [
    "n_h1 = 100\n",
    "n_h2 = 100\n",
    "model = NeuralNet(n_h1,n_h2)\n",
    "\n",
    "optimizer = chainer.optimizers.Adam()\n",
    "optimizer.setup(model)"
   ]
  },
  {
   "cell_type": "code",
   "execution_count": 7,
   "metadata": {},
   "outputs": [
    {
     "name": "stdout",
     "output_type": "stream",
     "text": [
      "Epoch 1/10, loss(train) = 0.404234, accuracy(train)= 0.854500, accuracy(test) = 0.849500\n",
      "Epoch 2/10, loss(train) = 0.360861, accuracy(train)= 0.863833, accuracy(test) = 0.856100\n",
      "Epoch 3/10, loss(train) = 0.324246, accuracy(train)= 0.873433, accuracy(test) = 0.863300\n",
      "Epoch 4/10, loss(train) = 0.298168, accuracy(train)= 0.881500, accuracy(test) = 0.868800\n",
      "Epoch 5/10, loss(train) = 0.284566, accuracy(train)= 0.885300, accuracy(test) = 0.870700\n",
      "Epoch 6/10, loss(train) = 0.282463, accuracy(train)= 0.885617, accuracy(test) = 0.869500\n",
      "Epoch 7/10, loss(train) = 0.270305, accuracy(train)= 0.889033, accuracy(test) = 0.870800\n",
      "Epoch 8/10, loss(train) = 0.264848, accuracy(train)= 0.890067, accuracy(test) = 0.871000\n",
      "Epoch 9/10, loss(train) = 0.262200, accuracy(train)= 0.890733, accuracy(test) = 0.869900\n",
      "Epoch 10/10, loss(train) = 0.257591, accuracy(train)= 0.892050, accuracy(test) = 0.872500\n"
     ]
    }
   ],
   "source": [
    "n_epoch = 10\n",
    "train_nn(model, n_epoch)"
   ]
  },
  {
   "cell_type": "code",
   "execution_count": 10,
   "metadata": {},
   "outputs": [
    {
     "data": {
      "text/plain": [
       "[<matplotlib.lines.Line2D at 0x7f544f709fd0>]"
      ]
     },
     "execution_count": 10,
     "metadata": {},
     "output_type": "execute_result"
    },
    {
     "data": {
      "image/png": "[encoded data removed]",
      "text/plain": [
       "<Figure size 432x288 with 1 Axes>"
      ]
     },
     "metadata": {},
     "output_type": "display_data"
    }
   ],
   "source": [
    "plt.grid()\n",
    "plt.plot(loss_history) "
   ]
  },
  {
   "cell_type": "code",
   "execution_count": 6,
   "metadata": {},
   "outputs": [],
   "source": [
    "import chainer\n",
    "import chainer.functions as F\n",
    "import chainer.links as L\n",
    "\n",
    "class MultiLayerPerceptron(chainer.Chain):\n",
    "\n",
    "    def __init__(self, n_in, n_hidden, n_out):\n",
    "        super(MultilayerPerceptron, self).__init__()\n",
    "        with self.init_scope():\n",
    "            self.layer1 = L.Linear(n_in, n_hidden)\n",
    "            self.layer2 = L.Linear(n_hidden, n_hidden)\n",
    "            self.layer3 = L.Linear(n_hidden, n_out)\n",
    "\n",
    "    def __call__(self, x):\n",
    "        # Forward propagation\n",
    "        h1 = F.relu(self.layer1(x))\n",
    "        h2 = F.relu(self.layer2(h1))\n",
    "        return self.layer3(h2)\n"
   ]
  },
  {
   "cell_type": "code",
   "execution_count": null,
   "metadata": {},
   "outputs": [],
   "source": []
  },
  {
   "cell_type": "code",
   "execution_count": null,
   "metadata": {},
   "outputs": [],
   "source": []
  },
  {
   "cell_type": "code",
   "execution_count": null,
   "metadata": {},
   "outputs": [],
   "source": []
  },
  {
   "cell_type": "code",
   "execution_count": null,
   "metadata": {},
   "outputs": [],
   "source": []
  },
  {
   "cell_type": "code",
   "execution_count": 41,
   "metadata": {},
   "outputs": [
    {
     "ename": "NameError",
     "evalue": "name 'optimizers' is not defined",
     "output_type": "error",
     "traceback": [
      "\u001b[0;31m---------------------------------------------------------------------------\u001b[0m",
      "\u001b[0;31mNameError\u001b[0m                                 Traceback (most recent call last)",
      "\u001b[0;32m<ipython-input-41-fff5a55b452c>\u001b[0m in \u001b[0;36m<module>\u001b[0;34m()\u001b[0m\n\u001b[1;32m     16\u001b[0m \u001b[0;34m\u001b[0m\u001b[0m\n\u001b[1;32m     17\u001b[0m \u001b[0mmodel\u001b[0m \u001b[0;34m=\u001b[0m \u001b[0mMyModel\u001b[0m\u001b[0;34m(\u001b[0m\u001b[0;34m)\u001b[0m\u001b[0;34m\u001b[0m\u001b[0m\n\u001b[0;32m---> 18\u001b[0;31m \u001b[0moptimizer\u001b[0m \u001b[0;34m=\u001b[0m \u001b[0moptimizers\u001b[0m\u001b[0;34m.\u001b[0m\u001b[0mAdam\u001b[0m\u001b[0;34m(\u001b[0m\u001b[0;34m)\u001b[0m\u001b[0;34m\u001b[0m\u001b[0m\n\u001b[0m\u001b[1;32m     19\u001b[0m \u001b[0moptimizer\u001b[0m\u001b[0;34m.\u001b[0m\u001b[0msetup\u001b[0m\u001b[0;34m(\u001b[0m\u001b[0mmodel\u001b[0m\u001b[0;34m)\u001b[0m\u001b[0;34m\u001b[0m\u001b[0m\n\u001b[1;32m     20\u001b[0m \u001b[0miterator\u001b[0m \u001b[0;34m=\u001b[0m \u001b[0miterator\u001b[0m\u001b[0;34m.\u001b[0m\u001b[0mSerial\u001b[0m\u001b[0;34m\u001b[0m\u001b[0m\n",
      "\u001b[0;31mNameError\u001b[0m: name 'optimizers' is not defined"
     ]
    }
   ],
   "source": [
    "class MyModel(Chain):\n",
    "    def __init__(self):\n",
    "        in_size = 28*28\n",
    "        out_size = 10\n",
    "        super(MyModel, self).__init__(\n",
    "        l1 = L.Linear(in_size,100),\n",
    "        l2 = L.Linear(100,100),\n",
    "        l3 = L.Linear(100,out_size)\n",
    "        )\n",
    "    def __call__(self,x,t):\n",
    "        return F.softmax_cross_entropy(self.fwd(x),t)\n",
    "    def fwd(self,x):\n",
    "        h1 = F.relu(self.l1(x))\n",
    "        h2 = F.relu(self.l2(h1))\n",
    "        return self.l3(h2)\n",
    "    \n",
    "model = MyModel()\n",
    "optimizer = optimizers.Adam()\n",
    "optimizer.setup(model)\n",
    "iterator = iterator.Serial\n",
    "        "
   ]
  },
  {
   "cell_type": "code",
   "execution_count": null,
   "metadata": {},
   "outputs": [],
   "source": []
  },
  {
   "cell_type": "code",
   "execution_count": null,
   "metadata": {},
   "outputs": [],
   "source": []
  }
 ],
 "metadata": {
  "kernelspec": {
   "display_name": "Python 3",
   "language": "python",
   "name": "python3"
  },
  "language_info": {
   "codemirror_mode": {
    "name": "ipython",
    "version": 3
   },
   "file_extension": ".py",
   "mimetype": "text/x-python",
   "name": "python",
   "nbconvert_exporter": "python",
   "pygments_lexer": "ipython3",
   "version": "3.6.5"
  }
 },
 "nbformat": 4,
 "nbformat_minor": 2
}
